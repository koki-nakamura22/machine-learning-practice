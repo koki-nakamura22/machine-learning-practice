{
  "nbformat": 4,
  "nbformat_minor": 0,
  "metadata": {
    "colab": {
      "name": "classify_text_with_bert.ipynb",
      "provenance": [],
      "collapsed_sections": []
    },
    "kernelspec": {
      "name": "python3",
      "display_name": "Python 3"
    },
    "language_info": {
      "name": "python"
    }
  },
  "cells": [
    {
      "cell_type": "markdown",
      "source": [
        "# PythonとBERTを使用してのテキスト自動分類プログラムサンプル"
      ],
      "metadata": {
        "id": "qV7SDgYGvqtO"
      }
    },
    {
      "cell_type": "markdown",
      "source": [
        "## 既にインストール済みのライブラリチェック"
      ],
      "metadata": {
        "id": "SC5xiXSevtlE"
      }
    },
    {
      "cell_type": "code",
      "source": [
        "!pip list | grep -e torch -e torchtext -e transformers"
      ],
      "metadata": {
        "id": "9Dbyn-3BvvYK"
      },
      "execution_count": null,
      "outputs": []
    },
    {
      "cell_type": "markdown",
      "source": [
        "## 必要なライブラリインストール"
      ],
      "metadata": {
        "id": "yVaxIh3pwCPy"
      }
    },
    {
      "cell_type": "code",
      "source": [
        "!pip install transformers==4.21.1\n",
        "!pip install fugashi==1.1.2\n",
        "!pip install ipadic==1.0.0"
      ],
      "metadata": {
        "id": "p2clX5bcwCwu"
      },
      "execution_count": null,
      "outputs": []
    },
    {
      "cell_type": "markdown",
      "source": [
        "## Modelダウンロード"
      ],
      "metadata": {
        "id": "9AdzoPIRxJgH"
      }
    },
    {
      "cell_type": "code",
      "source": [
        "# Google Driveマウント\n",
        "from google.colab import drive\n",
        "drive.mount('/content/drive')\n",
        "\n",
        "# Hugging FaceからModelをダウンロードするためのライブラリインストール\n",
        "!pip install huggingface-hub==0.8.1\n",
        "\n",
        "# ライブラリインストール\n",
        "from huggingface_hub import snapshot_download\n",
        "download_path = snapshot_download(repo_id='cl-tohoku/bert-base-japanese-whole-word-masking', cache_dir='/content/drive/MyDrive')"
      ],
      "metadata": {
        "id": "ZMT-VNLmxLF0"
      },
      "execution_count": null,
      "outputs": []
    },
    {
      "cell_type": "markdown",
      "source": [
        "## 分析処理"
      ],
      "metadata": {
        "id": "erbUjv1iwT52"
      }
    },
    {
      "cell_type": "markdown",
      "source": [
        "### サンプル"
      ],
      "metadata": {
        "id": "MYjWyCzXwVUk"
      }
    },
    {
      "cell_type": "code",
      "source": [
        "# 字句解析\n",
        "from transformers import BertJapaneseTokenizer\n",
        "# tokenizer = BertJapaneseTokenizer.from_pretrained('bert-base-japanese-whole-word-masking')\n",
        "# tokenizer = BertJapaneseTokenizer.from_pretrained('/content/drive/MyDrive/models--cl-tohoku--bert-base-japanese-whole-word-masking')\n",
        "tokenizer = BertJapaneseTokenizer.from_pretrained('cl-tohoku/bert-base-japanese-whole-word-masking')\n",
        "tokenizer.tokenize('お腹が痛いので遅れます。')"
      ],
      "metadata": {
        "colab": {
          "base_uri": "https://localhost:8080/"
        },
        "id": "3b30nYHbwWRQ",
        "outputId": "b64a4a53-80f2-4e25-9cd3-e3774bdbd687"
      },
      "execution_count": null,
      "outputs": [
        {
          "output_type": "execute_result",
          "data": {
            "text/plain": [
              "['お', '##腹', 'が', '痛', '##い', 'ので', '遅れ', 'ます', '。']"
            ]
          },
          "metadata": {},
          "execution_count": 15
        }
      ]
    },
    {
      "cell_type": "code",
      "source": [
        "from transformers import BertForSequenceClassification\n",
        "\n",
        "# Modelのダウンロードおよび保存\n",
        "# net = BertForSequenceClassification.from_pretrained('cl-tohoku/bert-base-japanese-whole-word-masking', num_labels=9)\n",
        "# net.save_pretrained('/content/drive/MyDrive/BertModelSequenceClassification')\n",
        "\n",
        "net = BertForSequenceClassification.from_pretrained('/content/drive/MyDrive/BertModelSequenceClassification', num_labels=9)\n",
        "print(net.classifier)\n"
      ],
      "metadata": {
        "colab": {
          "base_uri": "https://localhost:8080/"
        },
        "id": "ZsAU4IDM04mI",
        "outputId": "ae770d8d-2885-4dd0-d3e4-15301c64e269"
      },
      "execution_count": null,
      "outputs": [
        {
          "output_type": "stream",
          "name": "stdout",
          "text": [
            "Linear(in_features=768, out_features=9, bias=True)\n"
          ]
        }
      ]
    }
  ]
}