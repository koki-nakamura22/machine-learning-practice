{
  "nbformat": 4,
  "nbformat_minor": 0,
  "metadata": {
    "colab": {
      "name": "classify_text_with_fasttext.ipynb",
      "provenance": [],
      "collapsed_sections": []
    },
    "kernelspec": {
      "name": "python3",
      "display_name": "Python 3"
    },
    "language_info": {
      "name": "python"
    }
  },
  "cells": [
    {
      "cell_type": "markdown",
      "source": [
        "# PythonとFasttextを使用してのテキスト自動分類プログラムサンプル"
      ],
      "metadata": {
        "id": "xCx-Lr99mn28"
      }
    },
    {
      "cell_type": "markdown",
      "source": [
        "## 既にインストール済みのライブラリチェック"
      ],
      "metadata": {
        "id": "yqln0_M4lAuD"
      }
    },
    {
      "cell_type": "code",
      "execution_count": null,
      "metadata": {
        "id": "XtYiTVFGjGNT"
      },
      "outputs": [],
      "source": [
        "!pip list | grep -e mecab -e numpy -e scikit-learn -e pandas"
      ]
    },
    {
      "cell_type": "markdown",
      "source": [
        "## 必要なライブラリインストール"
      ],
      "metadata": {
        "id": "HD-Yb47jlFVO"
      }
    },
    {
      "cell_type": "code",
      "source": [
        "# https://github.com/facebookresearch/fastText\n",
        "# License: MIT\n",
        "# !pip install git+https://github.com/facebookresearch/fastText.git@v0.9.2\n",
        "!pip install fasttext"
      ],
      "metadata": {
        "id": "v7d5yYMllAQ9"
      },
      "execution_count": null,
      "outputs": []
    },
    {
      "cell_type": "markdown",
      "source": [
        "## Google Driveマウント"
      ],
      "metadata": {
        "id": "QlU_fv5wpBG6"
      }
    },
    {
      "cell_type": "code",
      "source": [
        "from google.colab import drive\n",
        "drive.mount('/content/drive')"
      ],
      "metadata": {
        "id": "siBNh5AmpDT5"
      },
      "execution_count": null,
      "outputs": []
    },
    {
      "cell_type": "markdown",
      "source": [
        "## 分析処理"
      ],
      "metadata": {
        "id": "8p5ih53XmarU"
      }
    },
    {
      "cell_type": "markdown",
      "source": [
        "### モデルファイル解凍"
      ],
      "metadata": {
        "id": "wslsvvmGxpyw"
      }
    },
    {
      "cell_type": "code",
      "source": [
        "# Download models from https://fasttext.cc/docs/en/crawl-vectors.html#models\n",
        "!gunzip /content/drive/MyDrive/cc.ja.300.bin.gz\n",
        "# !gunzip /content/drive/MyDrive/cc.ja.300.vec.gz"
      ],
      "metadata": {
        "id": "4VFiOn3nxtnp"
      },
      "execution_count": null,
      "outputs": []
    },
    {
      "cell_type": "markdown",
      "source": [
        "### Model読み込み"
      ],
      "metadata": {
        "id": "GCMClX4twsFX"
      }
    },
    {
      "cell_type": "code",
      "source": [
        "import fasttext\n",
        "import fasttext.util\n",
        "\n",
        "# 既存学習済みモデルを読み込む。\n",
        "model_path = '/content/drive/MyDrive/cc.ja.300.bin'\n",
        "model = fasttext.load_model(model_path)\n",
        "\n",
        "# ↓Vectorファイルを元に学習済みモデルを生成し保存。\n",
        "# text_for_model_path = '/content/drive/MyDrive/cc.ja.300.vec'\n",
        "# model = fasttext.train_supervised(input=text_for_model_path) # 7m 46s掛かった。\n",
        "# model_path = '/content/drive/MyDrive/create_from_vecfile_cc.ja.300.bin'\n",
        "# model.save_model(model_path)"
      ],
      "metadata": {
        "id": "4IvwIqewwtoJ"
      },
      "execution_count": null,
      "outputs": []
    },
    {
      "cell_type": "markdown",
      "source": [
        "### Tweet解析処理"
      ],
      "metadata": {
        "id": "xHgPmyNlw8xO"
      }
    },
    {
      "cell_type": "code",
      "source": [
        "tweet1 = '''おはよう御座います☺️\n",
        "今日は8/17(水)\n",
        "名古屋の天気☁️時々☔️降水確率50%\n",
        "気温は23℃～31℃\n",
        "\n",
        "今朝はスマホが見当たらなくて大騒ぎ\n",
        "必死に探したら庭に落ちてました😅\n",
        "メダカの餌やりの時に落としたんだと思います。\n",
        "\n",
        "#企業公式相互フォロー \n",
        "#企業公式が毎朝地元の天気を言い合う\n",
        "'''\n",
        "\n",
        "tweet2 = '''おはよう御座います☺️\n",
        "今日は8/10(水)\n",
        "名古屋の天気☁️時々☀️降水確率40%\n",
        "気温は27℃～34℃\n",
        "\n",
        "近日kintoneのルックアップ自動更新プラグインを公開する予定です😆\n",
        "無料版は機能が限定されますが、それでも便利だと思います👍\n",
        "\n",
        "#企業公式相互フォロー \n",
        "#企業公式が毎朝地元の天気を言い合う\n",
        "'''\n",
        "\n",
        "# predict実行時にGoogle Colabのセッションがクラッシュする時がある。原因不明。\n",
        "# predict_result = model.predict(tweet1.replace(\"\\n\", \"\"))\n",
        "predict_result = model.predict('こんにちは！今日は暑いですね。')\n",
        "\n",
        "print(predict_result)"
      ],
      "metadata": {
        "id": "4a1pvocWlKvf"
      },
      "execution_count": null,
      "outputs": []
    }
  ]
}